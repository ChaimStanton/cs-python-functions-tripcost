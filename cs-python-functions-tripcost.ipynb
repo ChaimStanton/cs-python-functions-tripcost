{
 "cells": [
  {
   "cell_type": "markdown",
   "metadata": {},
   "source": [
    "## Write a program to calculate the trip costs.\n",
    "\n",
    "a) use appropriate variable, constant and function names.\n",
    "b) don't forget to put comments in the code.\n",
    "c) In comments for each function, do mention the purpose the function, the input parameters and the return value from the function\n"
   ]
  },
  {
   "cell_type": "code",
   "execution_count": 1,
   "metadata": {},
   "outputs": [],
   "source": [
    "# function name: hotel_cost\n",
    "# purpose: to calculate the hotel costs for the number of nights the user what to stay\n",
    "# input parameters:  nights - number of nights to book\n",
    "# return: returns the hotel cost for the number of nights the user wants to stay\n",
    "def hotel_cost(nights,location):\n",
    "    \n",
    "    # give option to the user 50 pounds/night for Holiday Inn, 90 pounds/night for Hilton and 120 pounds/night for Marriott\n",
    "    # let the user choose from these 3 options\n",
    "    if location == \"hotel inn\":\n",
    "        price = nights * 50\n",
    "    elif location == \"hilton\":\n",
    "        price = nights * 90\n",
    "    else:\n",
    "        price = nights * 120\n",
    "    \n",
    "    \n",
    "    # remember to return the cost for the hotel stay\n",
    "    return price"
   ]
  },
  {
   "cell_type": "code",
   "execution_count": 2,
   "metadata": {},
   "outputs": [
    {
     "name": "stdout",
     "output_type": "stream",
     "text": [
      "what is the price of the hotel?5\n",
      "Where do you want to stay?5\n"
     ]
    },
    {
     "data": {
      "text/plain": [
       "600"
      ]
     },
     "execution_count": 2,
     "metadata": {},
     "output_type": "execute_result"
    }
   ],
   "source": [
    "hotel_cost(int(input(\"what is the price of the hotel?\")), input(\"Where do you want to stay?\").lower())"
   ]
  },
  {
   "cell_type": "code",
   "execution_count": 3,
   "metadata": {},
   "outputs": [],
   "source": [
    "def plane_ride_cost(city):\n",
    "    city = city.title()\n",
    "    if city==\"Madrid\":\n",
    "        return 270\n",
    "    elif city==\"Paris\":\n",
    "        return 280\n",
    "    elif city==\"Berlin\":\n",
    "        return 220\n",
    "    elif city==\"Edinburgh\":\n",
    "        return 150\n",
    "    else:\n",
    "        return 0"
   ]
  },
  {
   "cell_type": "code",
   "execution_count": 4,
   "metadata": {},
   "outputs": [
    {
     "name": "stdout",
     "output_type": "stream",
     "text": [
      "Where are you flying to 5\n"
     ]
    },
    {
     "data": {
      "text/plain": [
       "0"
      ]
     },
     "execution_count": 4,
     "metadata": {},
     "output_type": "execute_result"
    }
   ],
   "source": [
    "plane_ride_cost(input(\"Where are you flying to \"))"
   ]
  },
  {
   "cell_type": "code",
   "execution_count": 5,
   "metadata": {},
   "outputs": [],
   "source": [
    "# use constant names instead of numbers\n",
    "def rental_car_cost(days):\n",
    "    \n",
    "    # fixed charge for one day is 40 pounds\n",
    "    cost=days*40\n",
    "    # add 50 pounds discount if the car is rented for more than 7 days\n",
    "    if days == 7:\n",
    "        cost += 50\n",
    "    \n",
    "    # add 20 punds discount if the car is rented for more than 3 days\n",
    "    elif days > 3:\n",
    "        cost += 20\n",
    "\n",
    "    return cost"
   ]
  },
  {
   "cell_type": "code",
   "execution_count": 6,
   "metadata": {},
   "outputs": [
    {
     "data": {
      "text/plain": [
       "120"
      ]
     },
     "execution_count": 6,
     "metadata": {},
     "output_type": "execute_result"
    }
   ],
   "source": [
    "rental_car_cost(3)"
   ]
  },
  {
   "cell_type": "code",
   "execution_count": 7,
   "metadata": {},
   "outputs": [],
   "source": [
    "# add other costs in the trip costs\n",
    "def trip_cost(city,days):\n",
    "    return rental_car_cost(days) +  hotel_cost(days, city) +  plane_ride_cost(city)"
   ]
  },
  {
   "cell_type": "code",
   "execution_count": 8,
   "metadata": {},
   "outputs": [
    {
     "data": {
      "text/plain": [
       "820"
      ]
     },
     "execution_count": 8,
     "metadata": {},
     "output_type": "execute_result"
    }
   ],
   "source": [
    "trip_cost(\"London\", 5)"
   ]
  },
  {
   "cell_type": "code",
   "execution_count": 9,
   "metadata": {},
   "outputs": [],
   "source": [
    "# write other costs for the trip (food, rides, museum)\n",
    "# define your function for other costs\n",
    "def other_costs(food, rides, museum):\n",
    "    if food ==\"Burger\":\n",
    "        return 10\n",
    "    elif food ==\"Chips\":\n",
    "        return 5\n",
    "    elif food ==\"Pizza\":\n",
    "        return 20\n",
    "    else:\n",
    "        return 0\n",
    "    \n",
    "    if rides ==\"Bumper Cars\":\n",
    "        return food + 20\n",
    "    elif rides ==\"Roller coaster\":\n",
    "        return 20\n",
    "    else:\n",
    "        return 0\n",
    "    \n",
    "#     if museum\n",
    "    "
   ]
  },
  {
   "cell_type": "code",
   "execution_count": 10,
   "metadata": {},
   "outputs": [
    {
     "data": {
      "text/plain": [
       "10"
      ]
     },
     "execution_count": 10,
     "metadata": {},
     "output_type": "execute_result"
    }
   ],
   "source": [
    "other_costs(\"Burger\",\"Bumper Cars\", None)"
   ]
  },
  {
   "cell_type": "code",
   "execution_count": 15,
   "metadata": {},
   "outputs": [
    {
     "name": "stdout",
     "output_type": "stream",
     "text": [
      "Enter city:london\n",
      "Enter days of car rental:5\n"
     ]
    },
    {
     "data": {
      "text/plain": [
       "820"
      ]
     },
     "execution_count": 15,
     "metadata": {},
     "output_type": "execute_result"
    }
   ],
   "source": [
    "# write the main program and call the functions appropriately  \n",
    "\n",
    "\n",
    "# add comments below, what are these variables used for?\n",
    "# nights= input(\"Enter nights:\")\n",
    "city= input(\"Enter city:\")\n",
    "days= int(input(\"Enter days of car rental:\"))\n",
    "\n",
    "\n",
    "trip_cost(city, days)"
   ]
  },
  {
   "cell_type": "code",
   "execution_count": null,
   "metadata": {},
   "outputs": [],
   "source": []
  }
 ],
 "metadata": {
  "kernelspec": {
   "display_name": "Python 3",
   "language": "python",
   "name": "python3"
  },
  "language_info": {
   "codemirror_mode": {
    "name": "ipython",
    "version": 3
   },
   "file_extension": ".py",
   "mimetype": "text/x-python",
   "name": "python",
   "nbconvert_exporter": "python",
   "pygments_lexer": "ipython3",
   "version": "3.6.6"
  }
 },
 "nbformat": 4,
 "nbformat_minor": 2
}
